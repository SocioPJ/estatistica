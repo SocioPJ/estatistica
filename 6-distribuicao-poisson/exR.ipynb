{
 "cells": [
  {
   "cell_type": "markdown",
   "metadata": {},
   "source": [
    "## 1.\n",
    "### a)"
   ]
  },
  {
   "cell_type": "code",
   "execution_count": 11,
   "metadata": {
    "vscode": {
     "languageId": "r"
    }
   },
   "outputs": [
    {
     "data": {
      "text/html": [
       "0.761896694446456"
      ],
      "text/latex": [
       "0.761896694446456"
      ],
      "text/markdown": [
       "0.761896694446456"
      ],
      "text/plain": [
       "[1] 0.7618967"
      ]
     },
     "metadata": {},
     "output_type": "display_data"
    }
   ],
   "source": [
    "lambda <- 4 # acessos por ms\n",
    "t <- 1 # ms\n",
    "# mais de dois acessos por servidor\n",
    "mi <- lambda * t\n",
    "k <- 2\n",
    "1 - sum(dpois(0:k, mi))"
   ]
  },
  {
   "cell_type": "markdown",
   "metadata": {},
   "source": [
    "### b)"
   ]
  },
  {
   "cell_type": "code",
   "execution_count": 12,
   "metadata": {
    "vscode": {
     "languageId": "r"
    }
   },
   "outputs": [
    {
     "data": {
      "text/html": [
       "0.0445876491082678"
      ],
      "text/latex": [
       "0.0445876491082678"
      ],
      "text/markdown": [
       "0.0445876491082678"
      ],
      "text/plain": [
       "[1] 0.04458765"
      ]
     },
     "metadata": {},
     "output_type": "display_data"
    }
   ],
   "source": [
    "t <- 5\n",
    "mi <- lambda * t\n",
    "k <- 25\n",
    "dpois(k, mi)"
   ]
  },
  {
   "cell_type": "markdown",
   "metadata": {},
   "source": [
    "## 2.\n",
    "### a)"
   ]
  },
  {
   "cell_type": "code",
   "execution_count": 13,
   "metadata": {
    "vscode": {
     "languageId": "r"
    }
   },
   "outputs": [
    {
     "data": {
      "text/html": [
       "0.0183156388887342"
      ],
      "text/latex": [
       "0.0183156388887342"
      ],
      "text/markdown": [
       "0.0183156388887342"
      ],
      "text/plain": [
       "[1] 0.01831564"
      ]
     },
     "metadata": {},
     "output_type": "display_data"
    }
   ],
   "source": [
    "lambda <- 2\n",
    "t <- 2\n",
    "mi <- lambda * t\n",
    "dpois(0, mi)"
   ]
  },
  {
   "cell_type": "markdown",
   "metadata": {},
   "source": [
    "### b)"
   ]
  },
  {
   "cell_type": "code",
   "execution_count": 15,
   "metadata": {
    "vscode": {
     "languageId": "r"
    }
   },
   "outputs": [
    {
     "data": {
      "text/html": [
       "0.632120558828558"
      ],
      "text/latex": [
       "0.632120558828558"
      ],
      "text/markdown": [
       "0.632120558828558"
      ],
      "text/plain": [
       "[1] 0.6321206"
      ]
     },
     "metadata": {},
     "output_type": "display_data"
    }
   ],
   "source": [
    "t <- 0.5\n",
    "mi <- lambda * t\n",
    "1 - dpois(1, mi)"
   ]
  },
  {
   "cell_type": "markdown",
   "metadata": {},
   "source": [
    "## 3."
   ]
  },
  {
   "cell_type": "code",
   "execution_count": 19,
   "metadata": {
    "vscode": {
     "languageId": "r"
    }
   },
   "outputs": [
    {
     "data": {
      "text/html": [
       "0.350368648117931"
      ],
      "text/latex": [
       "0.350368648117931"
      ],
      "text/markdown": [
       "0.350368648117931"
      ],
      "text/plain": [
       "[1] 0.3503686"
      ]
     },
     "metadata": {},
     "output_type": "display_data"
    }
   ],
   "source": [
    "lambda <- 21/10\n",
    "(1 - sum(dpois(0:2, lambda))) "
   ]
  },
  {
   "cell_type": "markdown",
   "metadata": {},
   "source": [
    "## 4.\n",
    "### a)"
   ]
  },
  {
   "cell_type": "code",
   "execution_count": 23,
   "metadata": {
    "vscode": {
     "languageId": "r"
    }
   },
   "outputs": [
    {
     "data": {
      "text/html": [
       "12.8243273522875"
      ],
      "text/latex": [
       "12.8243273522875"
      ],
      "text/markdown": [
       "12.8243273522875"
      ],
      "text/plain": [
       "[1] 12.82433"
      ]
     },
     "metadata": {},
     "output_type": "display_data"
    }
   ],
   "source": [
    "lambda <- 0.1\n",
    "t <- 10\n",
    "mi <- lambda * t\n",
    "sum(dpois(0:1, mi)) * 30 - (1 - sum(dpois(0:1, mi))) * 35"
   ]
  },
  {
   "cell_type": "markdown",
   "metadata": {},
   "source": [
    "### b)"
   ]
  },
  {
   "cell_type": "code",
   "execution_count": 26,
   "metadata": {
    "vscode": {
     "languageId": "r"
    }
   },
   "outputs": [
    {
     "data": {
      "text/html": [
       "0.483286908810784"
      ],
      "text/latex": [
       "0.483286908810784"
      ],
      "text/markdown": [
       "0.483286908810784"
      ],
      "text/plain": [
       "[1] 0.4832869"
      ]
     },
     "metadata": {},
     "output_type": "display_data"
    }
   ],
   "source": [
    "p_falha <- 1 - sum(dpois(0:1, mi))\n",
    "sum(dbinom(0:2, 10, p_falha))"
   ]
  }
 ],
 "metadata": {
  "kernelspec": {
   "display_name": "R",
   "language": "R",
   "name": "ir"
  },
  "language_info": {
   "codemirror_mode": "r",
   "file_extension": ".r",
   "mimetype": "text/x-r-source",
   "name": "R",
   "pygments_lexer": "r",
   "version": "3.6.1"
  },
  "orig_nbformat": 4
 },
 "nbformat": 4,
 "nbformat_minor": 2
}
