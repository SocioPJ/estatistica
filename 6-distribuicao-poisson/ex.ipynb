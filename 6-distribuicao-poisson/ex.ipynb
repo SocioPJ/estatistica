{
 "cells": [
  {
   "cell_type": "code",
   "execution_count": null,
   "metadata": {},
   "outputs": [],
   "source": [
    "def poisson(mi, k):\n",
    "    \"\"\"\n",
    "    Calcula o valor de x com a distribuição de Poisson\n",
    "    :param mi: media\n",
    "    :param k: o valor de k\n",
    "    :return: x\n",
    "    \"\"\"\n",
    "    return (mi**k)*(e**(-mi))/fact(k)"
   ]
  }
 ],
 "metadata": {
  "language_info": {
   "name": "python"
  },
  "orig_nbformat": 4
 },
 "nbformat": 4,
 "nbformat_minor": 2
}
